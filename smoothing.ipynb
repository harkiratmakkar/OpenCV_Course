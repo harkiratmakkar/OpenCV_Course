{
 "cells": [
  {
   "cell_type": "code",
   "execution_count": 2,
   "metadata": {},
   "outputs": [],
   "source": [
    "import cv2 as cv\n",
    "import numpy as np"
   ]
  },
  {
   "cell_type": "code",
   "execution_count": 3,
   "metadata": {},
   "outputs": [
    {
     "data": {
      "text/plain": [
       "-1"
      ]
     },
     "execution_count": 3,
     "metadata": {},
     "output_type": "execute_result"
    }
   ],
   "source": [
    "img = cv.imread(\"Photos/cat.jpg\")\n",
    "cv.imshow(\"Original Image\", img)\n",
    "\n",
    "# Average\n",
    "avgBlur_img = cv.blur(img,(5,5))\n",
    "cv.imshow(\"Blur Image\",avgBlur_img)\n",
    "\n",
    "# Gaussian Blur \n",
    "gaussBlur_img = cv.GaussianBlur(img,(5,5),0)\n",
    "cv.imshow(\"Gaussian Blur Image\",gaussBlur_img)\n",
    "\n",
    "# Median Blur\n",
    "median_img = cv.medianBlur(img, 5)\n",
    "cv.imshow(\"Median Blur Image\",median_img)\n",
    "\n",
    "# Bilateral Blur\n",
    "bilateral_img = cv.bilateralFilter(img, 20, 40, 40)\n",
    "cv.imshow(\"Bilateral Blur Image\",bilateral_img)\n",
    "\n",
    "cv.waitKey(0)\n"
   ]
  }
 ],
 "metadata": {
  "kernelspec": {
   "display_name": "Python 3",
   "language": "python",
   "name": "python3"
  },
  "language_info": {
   "codemirror_mode": {
    "name": "ipython",
    "version": 3
   },
   "file_extension": ".py",
   "mimetype": "text/x-python",
   "name": "python",
   "nbconvert_exporter": "python",
   "pygments_lexer": "ipython3",
   "version": "3.11.1"
  }
 },
 "nbformat": 4,
 "nbformat_minor": 2
}
