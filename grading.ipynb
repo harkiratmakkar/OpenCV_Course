{
 "cells": [
  {
   "cell_type": "code",
   "execution_count": 1,
   "metadata": {},
   "outputs": [],
   "source": [
    "import cv2 as cv\n",
    "import numpy as np\n",
    "import matplotlib.pyplot as plt"
   ]
  },
  {
   "cell_type": "code",
   "execution_count": 2,
   "metadata": {},
   "outputs": [
    {
     "name": "stderr",
     "output_type": "stream",
     "text": [
      "2024-02-20 22:06:57.683 Python[27083:2263309] WARNING: Secure coding is not enabled for restorable state! Enable secure coding by implementing NSApplicationDelegate.applicationSupportsSecureRestorableState: and returning YES.\n"
     ]
    }
   ],
   "source": [
    "img = cv.imread(\"Photos/cat.jpg\")\n",
    "\n",
    "# Laplacian\n",
    "gray_img = cv.cvtColor(img,cv.COLOR_BGR2GRAY)\n",
    "lap = cv.Laplacian(gray_img,cv.CV_64F)\n",
    "lap = np.uint8(np.absolute(lap))\n",
    "cv.imshow(\"Laplacian Edges\",lap)\n",
    "\n",
    "# Sobel \n",
    "sobelx = cv.Sobel(gray_img,cv.CV_64F, 1, 0)\n",
    "sobely = cv.Sobel(gray_img,cv.CV_64F, 0, 1)\n",
    "combined_img = cv.bitwise_or(sobelx,sobely)\n",
    "\n",
    "cv.imshow(\"Sobel X\",sobelx)\n",
    "cv.imshow(\"Sobel Y\",sobely)\n",
    "cv.imshow(\"Combined\",combined_img)\n",
    "\n",
    "cv.waitKey(0)\n"
   ]
  }
 ],
 "metadata": {
  "kernelspec": {
   "display_name": "Python 3",
   "language": "python",
   "name": "python3"
  },
  "language_info": {
   "codemirror_mode": {
    "name": "ipython",
    "version": 3
   },
   "file_extension": ".py",
   "mimetype": "text/x-python",
   "name": "python",
   "nbconvert_exporter": "python",
   "pygments_lexer": "ipython3",
   "version": "3.10.4"
  },
  "orig_nbformat": 4
 },
 "nbformat": 4,
 "nbformat_minor": 2
}
