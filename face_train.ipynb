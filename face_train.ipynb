{
 "cells": [
  {
   "cell_type": "code",
   "execution_count": 2,
   "metadata": {},
   "outputs": [],
   "source": [
    "import cv2 as cv\n",
    "import numpy as np\n",
    "import os   "
   ]
  },
  {
   "cell_type": "code",
   "execution_count": 3,
   "metadata": {},
   "outputs": [],
   "source": [
    "dir = \"Faces/train/\"\n",
    "people = []\n",
    "for i in os.listdir(dir):\n",
    "    people.append(i)\n",
    "\n",
    "features = []\n",
    "labels = []\n",
    "haar_cascade = cv.CascadeClassifier('haar_faces.xml')\n",
    "\n",
    "def create_train():\n",
    "     for person in people:\n",
    "          path = os.path.join(dir,person)\n",
    "          label = people.index(person)\n",
    "\n",
    "          for img in os.listdir(path):\n",
    "               img_path = os.path.join(path,img)\n",
    "               img = cv.imread(img_path)\n",
    "               gray_img = cv.cvtColor(img,cv.COLOR_BGR2GRAY)\n",
    "               \n",
    "               faces_rect = haar_cascade.detectMultiScale(gray_img,scaleFactor=1.1,minNeighbors=4)\n",
    "               for i in range(len(faces_rect)):\n",
    "                   x = faces_rect[i][0]\n",
    "                   y = faces_rect[i][1]\n",
    "                   w = faces_rect[i][2]\n",
    "                   h = faces_rect[i][3]\n",
    "                   faces_roi = gray_img[y:y+h,x:x+h]\n",
    "                   features.append(faces_roi)\n",
    "                   labels.append(label)\n",
    "\n",
    "\n",
    "create_train()"
   ]
  },
  {
   "cell_type": "code",
   "execution_count": 4,
   "metadata": {},
   "outputs": [],
   "source": [
    "# Create the recognizer\n",
    "face_recognizer = cv.face.LBPHFaceRecognizer_create()\n",
    "\n",
    "# Train the recognizer\n",
    "features = np.array(features,dtype='object')\n",
    "labels = np.array(labels)\n",
    "np.save(\"features.npy\",features)\n",
    "np.save(\"labels.npy\",labels)\n",
    "face_recognizer.train(features,labels)\n",
    "face_recognizer.save('face_recognizer.yml')"
   ]
  }
 ],
 "metadata": {
  "kernelspec": {
   "display_name": "Python 3",
   "language": "python",
   "name": "python3"
  },
  "language_info": {
   "codemirror_mode": {
    "name": "ipython",
    "version": 3
   },
   "file_extension": ".py",
   "mimetype": "text/x-python",
   "name": "python",
   "nbconvert_exporter": "python",
   "pygments_lexer": "ipython3",
   "version": "3.11.1"
  },
  "orig_nbformat": 4
 },
 "nbformat": 4,
 "nbformat_minor": 2
}
