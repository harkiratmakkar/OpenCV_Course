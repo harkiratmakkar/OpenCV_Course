{
 "cells": [
  {
   "cell_type": "code",
   "execution_count": null,
   "metadata": {},
   "outputs": [],
   "source": [
    "import cv2 as cv\n",
    "import numpy as np"
   ]
  },
  {
   "cell_type": "code",
   "execution_count": null,
   "metadata": {},
   "outputs": [],
   "source": [
    "img = cv.imread(\"Photos/cat.jpg\")\n",
    "cv.imshow(\"Image\",img)\n",
    "\n",
    "gray_img  = cv.cvtColor(img,cv.COLOR_BGR2GRAY)\n",
    "cv.imshow(\"Gray Image\",gray_img)\n",
    "\n",
    "blur_img = cv.GaussianBlur(gray_img,(7,7),cv.BORDER_DEFAULT)\n",
    "cv.imshow(\"Blur Image\",blur_img)\n",
    "\n",
    "canny_img = cv.Canny(blur_img,125,175)\n",
    "cv.imshow(\"Canny Image\",canny_img)\n",
    "\n",
    "contours, hierarchies = cv.findContours(canny_img,cv.RETR_LIST, cv.CHAIN_APPROX_SIMPLE)\n",
    "print(len(contours))\n",
    "\n",
    "# Another Way\n",
    "ret, thresh = cv.threshold(gray_img,200,255,cv.THRESH_BINARY)\n",
    "cv.imshow(\"Threshold Image\",thresh)\n",
    "contours, hierarchies = cv.findContours(thresh,cv.RETR_LIST, cv.CHAIN_APPROX_SIMPLE)\n",
    "print(len(contours))\n",
    "\n",
    "# Visualising the contours\n",
    "blank_img = np.zeros((img.shape[0], img.shape[1], 3), dtype='uint8')\n",
    "cv.drawContours(blank_img,contours,-1, (0,255,0),1)\n",
    "cv.imshow(\"Contours\",blank_img)\n",
    "cv.waitKey(0)\n"
   ]
  }
 ],
 "metadata": {
  "kernelspec": {
   "display_name": "Python 3",
   "language": "python",
   "name": "python3"
  },
  "language_info": {
   "codemirror_mode": {
    "name": "ipython",
    "version": 3
   },
   "file_extension": ".py",
   "mimetype": "text/x-python",
   "name": "python",
   "nbconvert_exporter": "python",
   "pygments_lexer": "ipython3",
   "version": "3.11.1"
  }
 },
 "nbformat": 4,
 "nbformat_minor": 2
}
