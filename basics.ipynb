{
 "cells": [
  {
   "cell_type": "code",
   "execution_count": 21,
   "metadata": {},
   "outputs": [],
   "source": [
    "import cv2 as cv\n",
    "import numpy as np"
   ]
  },
  {
   "cell_type": "code",
   "execution_count": 26,
   "metadata": {},
   "outputs": [
    {
     "data": {
      "text/plain": [
       "-1"
      ]
     },
     "execution_count": 26,
     "metadata": {},
     "output_type": "execute_result"
    }
   ],
   "source": [
    "img = cv.imread(\"Photos/cat.jpg\")\n",
    "\n",
    "def rescaleFrame(frame, scale=0.5):\n",
    "    width = int(frame.shape[1] * scale)\n",
    "    height = int(frame.shape[0] * scale)\n",
    "\n",
    "    dimensions = (width,height)\n",
    "    return cv.resize(frame, dimensions, interpolation=cv.INTER_AREA)\n",
    "img = rescaleFrame(frame=img,scale=0.5)\n",
    "\n",
    "cv.imshow(\"Original Image\", img)\n",
    "\n",
    "\n",
    "# Grayscaling the image\n",
    "gray_img = cv.cvtColor(img,code=cv.COLOR_BGR2GRAY)\n",
    "cv.imshow(\"Grayscale Image\",gray_img)\n",
    "\n",
    "# Blur the image\n",
    "blur_img = cv.GaussianBlur(img, (3,3), cv.BORDER_DEFAULT)\n",
    "cv.imshow(\"Blur Image\",blur_img)\n",
    "\n",
    "# Edge Detection the image\n",
    "canny_img = cv.Canny(img, 125,175)\n",
    "cv.imshow(\"Canny Image\",canny_img)\n",
    "\n",
    "# Croppign image\n",
    "cropped_img = img[200:700,200:700]\n",
    "cv.imshow(\"Cropped Image\",cropped_img)\n",
    "\n",
    "cv.waitKey(0)"
   ]
  }
 ],
 "metadata": {
  "kernelspec": {
   "display_name": "Python 3",
   "language": "python",
   "name": "python3"
  },
  "language_info": {
   "codemirror_mode": {
    "name": "ipython",
    "version": 3
   },
   "file_extension": ".py",
   "mimetype": "text/x-python",
   "name": "python",
   "nbconvert_exporter": "python",
   "pygments_lexer": "ipython3",
   "version": "3.11.1"
  }
 },
 "nbformat": 4,
 "nbformat_minor": 2
}
