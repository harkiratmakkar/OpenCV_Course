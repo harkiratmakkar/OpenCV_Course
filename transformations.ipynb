{
 "cells": [
  {
   "cell_type": "code",
   "execution_count": null,
   "metadata": {},
   "outputs": [],
   "source": [
    "import cv2 as cv\n",
    "import numpy as np"
   ]
  },
  {
   "cell_type": "code",
   "execution_count": null,
   "metadata": {},
   "outputs": [],
   "source": [
    "img = cv.imread(\"Photos/cat.jpg\")\n",
    "\n",
    "\n",
    "def rescaleFrame(frame, scale=0.5):\n",
    "    width = int(frame.shape[1] * scale)\n",
    "    height = int(frame.shape[0] * scale)\n",
    "\n",
    "    dimensions = (width,height)\n",
    "    return cv.resize(frame, dimensions, interpolation=cv.INTER_AREA)\n",
    "img = rescaleFrame(img,0.5)\n",
    "cv.imshow(\"Original Image\",img)\n",
    "\n",
    "def translate(img,x,y):\n",
    "    transMat = np.float32([[1,0,x],[0,1,y]])\n",
    "    dimensions = (img.shape[1], img.shape[0])\n",
    "    return cv.warpAffine(img, transMat, dimensions)\n",
    "\n",
    "translated_image_1 = translate(img,0,100)\n",
    "cv.imshow(\"Translated to Down\",translated_image_1)\n",
    "\n",
    "translated_image_2 = translate(img,100,0)\n",
    "cv.imshow(\"Translated to Right\",translated_image_2)\n",
    "\n",
    "translated_image_3 = translate(img,-100,0)\n",
    "cv.imshow(\"Translated to Left\",translated_image_3)\n",
    "\n",
    "translated_image_4 = translate(img,0,-100)\n",
    "cv.imshow(\"Translated to Up\",translated_image_4)\n",
    "cv.waitKey(0)"
   ]
  },
  {
   "cell_type": "code",
   "execution_count": null,
   "metadata": {},
   "outputs": [],
   "source": [
    "def rotate(img,angle,rotPoint=None):\n",
    "    height = img.shape[0]\n",
    "    width = img.shape[1]\n",
    "\n",
    "    if rotPoint is None:\n",
    "        rotPoint = (width//2,height//2)\n",
    "\n",
    "    rotMat = cv.getRotationMatrix2D(rotPoint,angle=angle,scale=1)\n",
    "    return cv.warpAffine(img,rotMat,(width, height))\n",
    "\n",
    "rotated_img = rotate(img,45)\n",
    "cv.imshow(\"Rotated Image\",rotated_img)\n"
   ]
  }
 ],
 "metadata": {
  "kernelspec": {
   "display_name": "Python 3",
   "language": "python",
   "name": "python3"
  },
  "language_info": {
   "codemirror_mode": {
    "name": "ipython",
    "version": 3
   },
   "file_extension": ".py",
   "mimetype": "text/x-python",
   "name": "python",
   "nbconvert_exporter": "python",
   "pygments_lexer": "ipython3",
   "version": "3.11.1"
  }
 },
 "nbformat": 4,
 "nbformat_minor": 2
}
