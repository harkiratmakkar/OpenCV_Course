{
 "cells": [
  {
   "cell_type": "code",
   "execution_count": 13,
   "metadata": {},
   "outputs": [],
   "source": [
    "import cv2 as cv\n",
    "import numpy as np"
   ]
  },
  {
   "cell_type": "code",
   "execution_count": 14,
   "metadata": {},
   "outputs": [
    {
     "name": "stdout",
     "output_type": "stream",
     "text": [
      "Shape of the original Image:  (477, 1264, 3)\n",
      "Shape of the blue part of the Image:  (477, 1264)\n",
      "Shape of the green part of the Image:  (477, 1264)\n",
      "Shape of the red part of the Image:  (477, 1264)\n"
     ]
    },
    {
     "data": {
      "text/plain": [
       "-1"
      ]
     },
     "execution_count": 14,
     "metadata": {},
     "output_type": "execute_result"
    }
   ],
   "source": [
    "img = cv.imread(\"Photos/colors.png\")\n",
    "cv.imshow(\"Original Image\", img)\n",
    "\n",
    "b,g,r = cv.split(img)\n",
    "cv.imshow(\"Blue part of the Image\", b)\n",
    "cv.imshow(\"Green part of the Image\", g)\n",
    "cv.imshow(\"Red part of the Image\", r)\n",
    "\n",
    "\n",
    "print(\"Shape of the original Image: \", img.shape)\n",
    "print(\"Shape of the blue part of the Image: \", b.shape)\n",
    "print(\"Shape of the green part of the Image: \", g.shape)\n",
    "print(\"Shape of the red part of the Image: \", r.shape)\n",
    "\n",
    "merged_img = cv.merge((b,g,r))\n",
    "cv.imshow(\"Merged Image\", merged_img)\n",
    "\n",
    "a = np.zeros(g.shape)\n",
    "c = np.zeros(r.shape)\n",
    "blue_image = cv.merge((b,b**0,b**0))\n",
    "cv.imshow(\"Blue Image\",blue_image)\n",
    "green_image = cv.merge((g**0,g,g**0))\n",
    "cv.imshow(\"Green Image\",green_image)\n",
    "red_image = cv.merge((r**0,r**0,r))\n",
    "cv.imshow(\"Red Image\",red_image)\n",
    "\n",
    "cv.waitKey(0)"
   ]
  }
 ],
 "metadata": {
  "kernelspec": {
   "display_name": "Python 3",
   "language": "python",
   "name": "python3"
  },
  "language_info": {
   "codemirror_mode": {
    "name": "ipython",
    "version": 3
   },
   "file_extension": ".py",
   "mimetype": "text/x-python",
   "name": "python",
   "nbconvert_exporter": "python",
   "pygments_lexer": "ipython3",
   "version": "3.11.1"
  }
 },
 "nbformat": 4,
 "nbformat_minor": 2
}
