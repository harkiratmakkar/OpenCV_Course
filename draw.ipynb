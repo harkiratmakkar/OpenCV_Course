{
 "cells": [
  {
   "cell_type": "code",
   "execution_count": 5,
   "metadata": {},
   "outputs": [],
   "source": [
    "import cv2 as cv\n",
    "import numpy as np"
   ]
  },
  {
   "cell_type": "code",
   "execution_count": 6,
   "metadata": {},
   "outputs": [],
   "source": [
    "blank_img = np.zeros([500,500,3],dtype=\"uint8\")\n",
    "\n",
    "cv.imshow(\"Blank Image\",blank_img)\n"
   ]
  },
  {
   "cell_type": "code",
   "execution_count": 20,
   "metadata": {},
   "outputs": [
    {
     "data": {
      "text/plain": [
       "-1"
      ]
     },
     "execution_count": 20,
     "metadata": {},
     "output_type": "execute_result"
    }
   ],
   "source": [
    "blank_img[:] = 0,255,0\n",
    "cv.imshow(\"Blank Image Coloured\",blank_img)\n",
    "\n",
    "# Paint a part of the image\n",
    "blank_img[0:500,0:200] = 255,0,0\n",
    "cv.imshow(\"Blank Image Coloured\",blank_img)\n",
    "\n",
    "# Draw a rectangle\n",
    "cv.rectangle(blank_img, (0,0), (250,250), (0,100,255), thickness=-1)\n",
    "cv.imshow(\"Rectangle Drawn\",blank_img)\n",
    "\n",
    "# Draw a circle\n",
    "cv.circle(blank_img,(250,250),100,(100,100,100),thickness=10)\n",
    "cv.imshow(\"Circle Drawn\",blank_img)\n",
    "\n",
    "# Draw a line\n",
    "cv.line(blank_img, (0,0), (250,250), (255,255,0), thickness=5)\n",
    "cv.imshow(\"Line Drawn\",blank_img)\n",
    "\n",
    "# Write text\n",
    "cv.putText(blank_img, text=\"Hello\", org=(255,255),fontFace=cv.FONT_ITALIC,fontScale=2,color=(0,0,255))\n",
    "cv.imshow(\"Text Put\",blank_img)\n",
    "\n",
    "cv.waitKey(0)"
   ]
  }
 ],
 "metadata": {
  "kernelspec": {
   "display_name": "Python 3",
   "language": "python",
   "name": "python3"
  },
  "language_info": {
   "codemirror_mode": {
    "name": "ipython",
    "version": 3
   },
   "file_extension": ".py",
   "mimetype": "text/x-python",
   "name": "python",
   "nbconvert_exporter": "python",
   "pygments_lexer": "ipython3",
   "version": "3.11.1"
  }
 },
 "nbformat": 4,
 "nbformat_minor": 2
}
