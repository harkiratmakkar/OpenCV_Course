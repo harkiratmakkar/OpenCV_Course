{
 "cells": [
  {
   "cell_type": "code",
   "execution_count": 1,
   "metadata": {},
   "outputs": [],
   "source": [
    "import cv2 as cv\n",
    "import numpy as np"
   ]
  },
  {
   "cell_type": "code",
   "execution_count": 2,
   "metadata": {},
   "outputs": [
    {
     "data": {
      "text/plain": [
       "-1"
      ]
     },
     "execution_count": 2,
     "metadata": {},
     "output_type": "execute_result"
    }
   ],
   "source": [
    "blank = np.zeros((400,400),dtype='uint8')\n",
    "rectangle = cv.rectangle(blank.copy(),(30,30),(370,370), 255, -1)\n",
    "circle = cv.circle(blank.copy(), (200,200), 200, 255, -1)\n",
    "cv.imshow(\"Rectangle\",rectangle)\n",
    "cv.imshow(\"Circle\",circle)\n",
    "\n",
    "# Bitwise And\n",
    "bitwise_and = cv.bitwise_and(rectangle,circle)\n",
    "cv.imshow(\"Bitwise And\",bitwise_and)\n",
    "\n",
    "# Bitwise OR\n",
    "bitwise_or = cv.bitwise_or(rectangle,circle)\n",
    "cv.imshow(\"Bitwise OR\",bitwise_or)\n",
    "\n",
    "# Bitwise OR\n",
    "bitwise_xor = cv.bitwise_xor(rectangle,circle)\n",
    "cv.imshow(\"Bitwise XOR\",bitwise_xor)\n",
    "\n",
    "# Bitwise NOT\n",
    "bitwise_not_rectangle = cv.bitwise_not(rectangle)\n",
    "cv.imshow(\"Rectangle Bitwise NOT\",bitwise_not_rectangle)\n",
    "\n",
    "# Bitwise NOT\n",
    "bitwise_not_circle = cv.bitwise_not(circle)\n",
    "cv.imshow(\"Circle Bitwise NOT\",bitwise_not_circle)\n",
    "\n",
    "\n",
    "cv.waitKey(0)"
   ]
  },
  {
   "cell_type": "code",
   "execution_count": null,
   "metadata": {},
   "outputs": [],
   "source": []
  }
 ],
 "metadata": {
  "kernelspec": {
   "display_name": "Python 3",
   "language": "python",
   "name": "python3"
  },
  "language_info": {
   "codemirror_mode": {
    "name": "ipython",
    "version": 3
   },
   "file_extension": ".py",
   "mimetype": "text/x-python",
   "name": "python",
   "nbconvert_exporter": "python",
   "pygments_lexer": "ipython3",
   "version": "3.11.1"
  }
 },
 "nbformat": 4,
 "nbformat_minor": 2
}
