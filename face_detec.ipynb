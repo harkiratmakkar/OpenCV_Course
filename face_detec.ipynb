{
 "cells": [
  {
   "cell_type": "code",
   "execution_count": 1,
   "metadata": {},
   "outputs": [],
   "source": [
    "import cv2 as cv\n",
    "import numpy as np"
   ]
  },
  {
   "cell_type": "code",
   "execution_count": 2,
   "metadata": {},
   "outputs": [
    {
     "name": "stderr",
     "output_type": "stream",
     "text": [
      "2024-02-20 23:15:28.560 Python[28358:2308909] WARNING: Secure coding is not enabled for restorable state! Enable secure coding by implementing NSApplicationDelegate.applicationSupportsSecureRestorableState: and returning YES.\n"
     ]
    }
   ],
   "source": [
    "img = cv.imread(\"Photos/group.jpeg\")\n",
    "cv.imshow(\"Lady Image\",img)\n",
    "\n",
    "gray_img = cv.cvtColor(img,cv.COLOR_BGR2GRAY)\n",
    "# cv.imshow(\"Gray Lady Image\",gray_img)\n",
    "\n",
    "haar_cascade = cv.CascadeClassifier('haar_faces.xml')\n",
    "\n",
    "faces_rect = haar_cascade.detectMultiScale(gray_img,scaleFactor=1.05,minNeighbors=1)\n",
    "\n",
    "for i in range(len(faces_rect)):\n",
    "    x = faces_rect[i][0]\n",
    "    y = faces_rect[i][1]\n",
    "    w = faces_rect[i][2]\n",
    "    h = faces_rect[i][3]\n",
    "    rectangle = cv.rectangle(img,(x,y),(x+w,y+h),(0,0,255),3)\n",
    "\n",
    "cv.imshow(\"Detected Face\",img)\n",
    "cv.waitKey(0)"
   ]
  }
 ],
 "metadata": {
  "kernelspec": {
   "display_name": "Python 3",
   "language": "python",
   "name": "python3"
  },
  "language_info": {
   "codemirror_mode": {
    "name": "ipython",
    "version": 3
   },
   "file_extension": ".py",
   "mimetype": "text/x-python",
   "name": "python",
   "nbconvert_exporter": "python",
   "pygments_lexer": "ipython3",
   "version": "3.10.4"
  },
  "orig_nbformat": 4
 },
 "nbformat": 4,
 "nbformat_minor": 2
}
