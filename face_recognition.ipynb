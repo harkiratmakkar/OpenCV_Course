{
 "cells": [
  {
   "cell_type": "code",
   "execution_count": 7,
   "metadata": {},
   "outputs": [],
   "source": [
    "import cv2 as cv\n",
    "import numpy as np\n",
    "import os"
   ]
  },
  {
   "cell_type": "code",
   "execution_count": 8,
   "metadata": {},
   "outputs": [
    {
     "name": "stdout",
     "output_type": "stream",
     "text": [
      "Found  Ben Afflek  to be  Jerry Seinfield  with a confidence of  68.08401901031475\n",
      "Found  Ben Afflek  to be  Ben Afflek  with a confidence of  60.069416291380506\n",
      "Found  Ben Afflek  to be  Ben Afflek  with a confidence of  90.68315311873681\n",
      "Found  Ben Afflek  to be  Jerry Seinfield  with a confidence of  131.35026072427803\n",
      "Found  Ben Afflek  to be  Ben Afflek  with a confidence of  94.11855589200476\n",
      "Found  Elton John  to be  Elton John  with a confidence of  67.00856809674691\n",
      "Found  Elton John  to be  Jerry Seinfield  with a confidence of  129.73603670848192\n",
      "Found  Elton John  to be  Elton John  with a confidence of  90.40428841964362\n",
      "Found  Elton John  to be  Jerry Seinfield  with a confidence of  105.19260216820896\n",
      "Found  Elton John  to be  Jerry Seinfield  with a confidence of  76.21594382173521\n",
      "Found  Jerry Seinfield  to be  Elton John  with a confidence of  56.89221477068277\n",
      "Found  Jerry Seinfield  to be  Jerry Seinfield  with a confidence of  90.92921632804081\n",
      "Found  Jerry Seinfield  to be  Jerry Seinfield  with a confidence of  68.80420247001922\n",
      "Found  Jerry Seinfield  to be  Jerry Seinfield  with a confidence of  98.96378333255355\n",
      "Found  Jerry Seinfield  to be  Madonna  with a confidence of  71.66846647629451\n",
      "Found  Madonna  to be  Jerry Seinfield  with a confidence of  111.0898360065638\n",
      "Found  Madonna  to be  Elton John  with a confidence of  90.89414434305048\n",
      "Found  Madonna  to be  Madonna  with a confidence of  78.75449489280508\n",
      "Found  Madonna  to be  Madonna  with a confidence of  96.81807061458018\n",
      "Found  Madonna  to be  Ben Afflek  with a confidence of  96.01015732166002\n",
      "Found  Mindy Kaling  to be  Madonna  with a confidence of  72.53901115238644\n",
      "Found  Mindy Kaling  to be  Mindy Kaling  with a confidence of  87.49866498716416\n",
      "Found  Mindy Kaling  to be  Mindy Kaling  with a confidence of  152.2725206933395\n",
      "Found  Mindy Kaling  to be  Mindy Kaling  with a confidence of  104.96544406814759\n",
      "Found  Mindy Kaling  to be  Mindy Kaling  with a confidence of  69.036528095911\n",
      "Found  Mindy Kaling  to be  Mindy Kaling  with a confidence of  109.4826992479987\n"
     ]
    }
   ],
   "source": [
    "haar_cascade = cv.CascadeClassifier('haar_faces.xml')\n",
    "\n",
    "face_recognizer = cv.face.LBPHFaceRecognizer_create()\n",
    "face_recognizer.read(\"face_recognizer.yml\")\n",
    "\n",
    "people = ['Ben Afflek', 'Elton John', 'Jerry Seinfield' ,'Madonna' ,'Mindy Kaling']\n",
    "people_folder = ['ben_afflek', 'elton_john', 'jerry_seinfeld' ,'madonna' ,'mindy_kaling']\n",
    "base_path = \"Faces/val\"\n",
    "for person in people_folder:\n",
    "    # folder_path = os.path.join(base_path,person) \n",
    "    folder_path = base_path +\"/\"+ person   \n",
    "    images = os.listdir(folder_path)\n",
    "\n",
    "    for image_name in images:\n",
    "        img_path = os.path.join(folder_path,image_name)\n",
    "        img = cv.imread(img_path)\n",
    "        gray_img = cv.cvtColor(img,cv.COLOR_BGR2GRAY)\n",
    "        cv.imshow(\"Undetected Person\",img)\n",
    "\n",
    "        face_rect = haar_cascade.detectMultiScale(gray_img,1.1,4)\n",
    "\n",
    "        for (x,y,w,h) in face_rect:\n",
    "            face_aoi = gray_img[y:y+h,x:x+h]\n",
    "\n",
    "            label, confidence = face_recognizer.predict(face_aoi)\n",
    "            correct_person = people[people_folder.index(person)]\n",
    "            print(\"Found \", correct_person, \" to be \", people[label], \" with a confidence of \",confidence)\n",
    "            \n",
    "\n",
    "            rect = cv.rectangle(img,(x,y),(x+w,y+h),(0,0,255),3)\n",
    "            text = cv.putText(img,people[label],(20,20),cv.FONT_HERSHEY_COMPLEX,0.7,(255,0,0),2)\n",
    "            cv.imshow(\"Detected Person\",img)\n",
    "        \n",
    "        cv.waitKey(0)"
   ]
  },
  {
   "cell_type": "code",
   "execution_count": null,
   "metadata": {},
   "outputs": [],
   "source": []
  }
 ],
 "metadata": {
  "kernelspec": {
   "display_name": "Python 3",
   "language": "python",
   "name": "python3"
  },
  "language_info": {
   "codemirror_mode": {
    "name": "ipython",
    "version": 3
   },
   "file_extension": ".py",
   "mimetype": "text/x-python",
   "name": "python",
   "nbconvert_exporter": "python",
   "pygments_lexer": "ipython3",
   "version": "3.11.1"
  }
 },
 "nbformat": 4,
 "nbformat_minor": 2
}
