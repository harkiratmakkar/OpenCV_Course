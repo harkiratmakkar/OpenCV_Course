{
 "cells": [
  {
   "cell_type": "code",
   "execution_count": null,
   "metadata": {},
   "outputs": [],
   "source": [
    "import cv2 as cv\n",
    "import numpy as np\n"
   ]
  },
  {
   "cell_type": "code",
   "execution_count": null,
   "metadata": {},
   "outputs": [],
   "source": [
    "haar_cascade = cv.CascadeClassifier('haar_faces.xml')\n",
    "\n",
    "features = np.load(\"features.npy\")\n",
    "labels = np.load(\"labels.npy\")\n",
    "\n",
    "face_recognizer = cv.face.LBPHFaceRecognizer_create()\n",
    "face_recognizer.read(\"face_recognizer.yml\")\n",
    "\n",
    "people = ['Ben Afflek', 'Elton John', 'Jerry Seinfield' ,'Madonna' ,'Mindy Kaling']\n",
    "\n",
    "img = cv.imread(r \"Faces/val/Ben Afflek/1.jpg\")"
   ]
  }
 ],
 "metadata": {
  "kernelspec": {
   "display_name": "Python 3",
   "language": "python",
   "name": "python3"
  },
  "language_info": {
   "name": "python",
   "version": "3.11.1"
  }
 },
 "nbformat": 4,
 "nbformat_minor": 2
}
