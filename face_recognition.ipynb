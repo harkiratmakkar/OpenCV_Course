{
 "cells": [
  {
   "cell_type": "code",
   "execution_count": 20,
   "metadata": {},
   "outputs": [],
   "source": [
    "import cv2 as cv\n",
    "import numpy as np\n",
    "import os   "
   ]
  },
  {
   "cell_type": "code",
   "execution_count": 21,
   "metadata": {},
   "outputs": [
    {
     "name": "stdout",
     "output_type": "stream",
     "text": [
      "100\n",
      "100\n"
     ]
    }
   ],
   "source": [
    "dir = \"Faces/train/\"\n",
    "people = []\n",
    "for i in os.listdir(dir):\n",
    "    people.append(i)\n",
    "\n",
    "features = []\n",
    "labels = []\n",
    "haar_cascade = cv.CascadeClassifier('haar_faces.xml')\n",
    "\n",
    "def create_train():\n",
    "     for person in people:\n",
    "          path = os.path.join(dir,person)\n",
    "          label = people.index(person)\n",
    "\n",
    "          for img in os.listdir(path):\n",
    "               img_path = os.path.join(path,img)\n",
    "               img = cv.imread(img_path)\n",
    "               gray_img = cv.cvtColor(img,cv.COLOR_BGR2GRAY)\n",
    "               \n",
    "               faces_rect = haar_cascade.detectMultiScale(gray_img,scaleFactor=1.1,minNeighbors=4)\n",
    "               for i in range(len(faces_rect)):\n",
    "                   x = faces_rect[i][0]\n",
    "                   y = faces_rect[i][1]\n",
    "                   w = faces_rect[i][2]\n",
    "                   h = faces_rect[i][3]\n",
    "                   faces_roi = gray_img[y:y+h,x:x+h]\n",
    "                   features.append(faces_roi)\n",
    "                   labels.append(label)\n",
    "\n",
    "create_train()\n",
    "\n",
    "face_recognizer = cv.face.LBPHFaceRecognizer_create()"
   ]
  }
 ],
 "metadata": {
  "kernelspec": {
   "display_name": "Python 3",
   "language": "python",
   "name": "python3"
  },
  "language_info": {
   "codemirror_mode": {
    "name": "ipython",
    "version": 3
   },
   "file_extension": ".py",
   "mimetype": "text/x-python",
   "name": "python",
   "nbconvert_exporter": "python",
   "pygments_lexer": "ipython3",
   "version": "3.10.4"
  },
  "orig_nbformat": 4
 },
 "nbformat": 4,
 "nbformat_minor": 2
}
