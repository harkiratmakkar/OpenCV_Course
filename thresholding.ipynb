{
 "cells": [
  {
   "cell_type": "code",
   "execution_count": 2,
   "metadata": {},
   "outputs": [],
   "source": [
    "import cv2 as cv\n",
    "import numpy as np\n",
    "import matplotlib.pyplot as plt"
   ]
  },
  {
   "cell_type": "code",
   "execution_count": 2,
   "metadata": {},
   "outputs": [
    {
     "name": "stderr",
     "output_type": "stream",
     "text": [
      "2024-02-20 21:09:46.454 Python[26612:2236321] WARNING: Secure coding is not enabled for restorable state! Enable secure coding by implementing NSApplicationDelegate.applicationSupportsSecureRestorableState: and returning YES.\n"
     ]
    }
   ],
   "source": [
    "img = cv.imread(\"Photos/cat.jpg\")\n",
    "\n",
    "# Simple Thresholding\n",
    "gray_img = cv.cvtColor(img,cv.COLOR_BGR2GRAY)\n",
    "\n",
    "threshold, thresholded_img = cv.threshold(gray_img,100, 255, cv.THRESH_BINARY)\n",
    "cv.imshow(\"Thresholded Image\",thresholded_img)\n",
    "\n",
    "threshold, inverse_thresholded_img = cv.threshold(gray_img,100, 255, cv.THRESH_BINARY_INV)\n",
    "cv.imshow(\"Inverse Thresholded Image\",inverse_thresholded_img)\n",
    "\n",
    "cv.waitKey(0)"
   ]
  },
  {
   "cell_type": "code",
   "execution_count": 3,
   "metadata": {},
   "outputs": [
    {
     "name": "stderr",
     "output_type": "stream",
     "text": [
      "2024-02-20 21:14:33.229 Python[26703:2239993] WARNING: Secure coding is not enabled for restorable state! Enable secure coding by implementing NSApplicationDelegate.applicationSupportsSecureRestorableState: and returning YES.\n"
     ]
    }
   ],
   "source": [
    "# Adaptive Thresholding\n",
    "img = cv.imread(\"Photos/cat.jpg\")\n",
    "gray_img = cv.cvtColor(img,cv.COLOR_BGR2GRAY)\n",
    "adaptive_threshold = cv.adaptiveThreshold(gray_img,255,cv.ADAPTIVE_THRESH_GAUSSIAN_C,cv.THRESH_BINARY,11,0)\n",
    "cv.imshow(\"Adaptive Thresholded Image\",adaptive_threshold)\n",
    "\n",
    "cv.waitKey(0)"
   ]
  }
 ],
 "metadata": {
  "kernelspec": {
   "display_name": "Python 3",
   "language": "python",
   "name": "python3"
  },
  "language_info": {
   "codemirror_mode": {
    "name": "ipython",
    "version": 3
   },
   "file_extension": ".py",
   "mimetype": "text/x-python",
   "name": "python",
   "nbconvert_exporter": "python",
   "pygments_lexer": "ipython3",
   "version": "3.10.4"
  },
  "orig_nbformat": 4
 },
 "nbformat": 4,
 "nbformat_minor": 2
}
