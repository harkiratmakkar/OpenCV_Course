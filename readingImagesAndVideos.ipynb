{
 "cells": [
  {
   "cell_type": "code",
   "execution_count": null,
   "metadata": {},
   "outputs": [],
   "source": [
    "import cv2 as cv;"
   ]
  },
  {
   "cell_type": "code",
   "execution_count": null,
   "metadata": {},
   "outputs": [],
   "source": [
    "img = cv.imread(\"Photos/cat.jpg\")\n",
    "cv.imshow(\"Cat\",img)\n",
    "cv.waitKey(0)   #cv.waitKey(x) wait for x ms for a key to be pressed. 0 means Inf."
   ]
  },
  {
   "cell_type": "code",
   "execution_count": null,
   "metadata": {},
   "outputs": [],
   "source": [
    "capture = cv.VideoCapture(\"Videos/faces.mp4\")\n",
    "while True:\n",
    "    isTrue, frame = capture.read()\n",
    "    cv.imshow(\"Video\",frame)\n",
    "\n",
    "    if(cv.waitKey(20) & 0xFF==ord('d')):\n",
    "        break\n",
    "\n",
    "capture.release\n",
    "cv.destroyAllWindows"
   ]
  }
 ],
 "metadata": {
  "kernelspec": {
   "display_name": "Python 3",
   "language": "python",
   "name": "python3"
  },
  "language_info": {
   "codemirror_mode": {
    "name": "ipython",
    "version": 3
   },
   "file_extension": ".py",
   "mimetype": "text/x-python",
   "name": "python",
   "nbconvert_exporter": "python",
   "pygments_lexer": "ipython3",
   "version": "3.11.1"
  }
 },
 "nbformat": 4,
 "nbformat_minor": 2
}
